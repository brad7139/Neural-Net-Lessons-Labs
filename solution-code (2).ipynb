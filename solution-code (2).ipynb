{
 "cells": [
  {
   "cell_type": "markdown",
   "metadata": {},
   "source": [
    "# Convolutional Neural Networks II"
   ]
  },
  {
   "cell_type": "code",
   "execution_count": 1,
   "metadata": {},
   "outputs": [
    {
     "name": "stdout",
     "output_type": "stream",
     "text": [
      "Requirement already satisfied: utils in /Users/mattbrems/anaconda3/lib/python3.5/site-packages (0.9.0)\r\n"
     ]
    }
   ],
   "source": [
    "!pip install utils"
   ]
  },
  {
   "cell_type": "markdown",
   "metadata": {},
   "source": [
    "## Model 1: Image Classification with the CIFAR-10 Dataset"
   ]
  },
  {
   "cell_type": "code",
   "execution_count": 2,
   "metadata": {},
   "outputs": [
    {
     "name": "stderr",
     "output_type": "stream",
     "text": [
      "/Users/mattbrems/anaconda3/lib/python3.5/site-packages/h5py/__init__.py:34: FutureWarning: Conversion of the second argument of issubdtype from `float` to `np.floating` is deprecated. In future, it will be treated as `np.float64 == np.dtype(float).type`.\n",
      "  from ._conv import register_converters as _register_converters\n",
      "Using TensorFlow backend.\n",
      "/Users/mattbrems/anaconda3/lib/python3.5/importlib/_bootstrap.py:222: RuntimeWarning: compiletime version 3.6 of module 'tensorflow.python.framework.fast_tensor_util' does not match runtime version 3.5\n",
      "  return f(*args, **kwds)\n"
     ]
    },
    {
     "name": "stdout",
     "output_type": "stream",
     "text": [
      "Couldn't import dot_parser, loading of dot files will not be possible.\n"
     ]
    }
   ],
   "source": [
    "from __future__ import print_function\n",
    "import keras\n",
    "from keras.datasets import cifar10\n",
    "from keras.preprocessing.image import ImageDataGenerator\n",
    "from keras.models import Sequential\n",
    "from keras.layers import Dense, Dropout, Activation, Flatten\n",
    "from keras.layers import Conv2D, MaxPooling2D\n",
    "import os"
   ]
  },
  {
   "cell_type": "code",
   "execution_count": 3,
   "metadata": {
    "collapsed": true
   },
   "outputs": [],
   "source": [
    "batch_size = 32\n",
    "num_classes = 10\n",
    "epochs = 100\n",
    "data_augmentation = False\n",
    "save_dir = os.path.join(os.getcwd(), 'saved_models')\n",
    "model_name = 'keras_cifar10_trained_model.h5'"
   ]
  },
  {
   "cell_type": "code",
   "execution_count": 4,
   "metadata": {},
   "outputs": [
    {
     "name": "stdout",
     "output_type": "stream",
     "text": [
      "x_train shape: (50000, 32, 32, 3)\n",
      "50000 train samples\n",
      "10000 test samples\n"
     ]
    }
   ],
   "source": [
    "# The data, split between train and test sets:\n",
    "(x_train, y_train), (x_test, y_test) = cifar10.load_data()\n",
    "print('x_train shape:', x_train.shape)\n",
    "print(x_train.shape[0], 'train samples')\n",
    "print(x_test.shape[0], 'test samples')"
   ]
  },
  {
   "cell_type": "code",
   "execution_count": 5,
   "metadata": {
    "collapsed": true
   },
   "outputs": [],
   "source": [
    "# Convert X data from ints to floats; scale to be between 0 and 1.\n",
    "x_train = x_train.astype('float32')\n",
    "x_test = x_test.astype('float32')\n",
    "x_train /= 255\n",
    "x_test /= 255"
   ]
  },
  {
   "cell_type": "code",
   "execution_count": 6,
   "metadata": {
    "collapsed": true
   },
   "outputs": [],
   "source": [
    "# Convert class vectors to binary class matrices.\n",
    "y_train = keras.utils.to_categorical(y_train, num_classes)\n",
    "y_test = keras.utils.to_categorical(y_test, num_classes)"
   ]
  },
  {
   "cell_type": "code",
   "execution_count": 7,
   "metadata": {
    "collapsed": true
   },
   "outputs": [],
   "source": [
    "model = Sequential()                              # Instantiate model.\n",
    "model.add(Conv2D(32, (3, 3), padding='same',      # Specify (number of filters, filter size, padding size, input shape)\n",
    "                 input_shape=x_train.shape[1:]))\n",
    "model.add(Activation('relu'))                     # Activation function to be used.\n",
    "model.add(Conv2D(32, (3, 3)))                     # Specify tuple again. (padding default is 'valid' a.k.a. 0 padding)\n",
    "model.add(Activation('relu'))                     # Activation function to be used.\n",
    "model.add(MaxPooling2D(pool_size=(2, 2)))         # Pooling with filter size 2x2. (defaults to non-overlapping regions)\n",
    "model.add(Dropout(0.25))                          # Dropout 25% of nodes randomly at each epoch."
   ]
  },
  {
   "cell_type": "code",
   "execution_count": 8,
   "metadata": {
    "collapsed": true
   },
   "outputs": [],
   "source": [
    "model.add(Conv2D(64, (3, 3), padding='same'))\n",
    "model.add(Activation('relu'))\n",
    "model.add(Conv2D(64, (3, 3)))\n",
    "model.add(Activation('relu'))\n",
    "model.add(MaxPooling2D(pool_size=(2, 2)))\n",
    "model.add(Dropout(0.25))"
   ]
  },
  {
   "cell_type": "code",
   "execution_count": 9,
   "metadata": {
    "collapsed": true
   },
   "outputs": [],
   "source": [
    "model.add(Flatten())\n",
    "model.add(Dense(512))\n",
    "model.add(Activation('relu'))\n",
    "model.add(Dropout(0.5))\n",
    "model.add(Dense(num_classes))\n",
    "model.add(Activation('softmax'))"
   ]
  },
  {
   "cell_type": "code",
   "execution_count": 10,
   "metadata": {
    "collapsed": true
   },
   "outputs": [],
   "source": [
    "# initiate RMSprop optimizer\n",
    "opt = keras.optimizers.rmsprop(lr=0.0001, decay=1e-6)  # RMSProp instead of gradient descent for optimization."
   ]
  },
  {
   "cell_type": "code",
   "execution_count": 11,
   "metadata": {
    "collapsed": true
   },
   "outputs": [],
   "source": [
    "# Let's train the model using RMSprop\n",
    "model.compile(loss='categorical_crossentropy',\n",
    "              optimizer=opt,\n",
    "              metrics=['accuracy'])"
   ]
  },
  {
   "cell_type": "code",
   "execution_count": 12,
   "metadata": {},
   "outputs": [
    {
     "name": "stdout",
     "output_type": "stream",
     "text": [
      "Not using data augmentation.\n",
      "Train on 50000 samples, validate on 10000 samples\n",
      "Epoch 1/100\n",
      "  576/50000 [..............................] - ETA: 4:04 - loss: 2.3077 - acc: 0.1076"
     ]
    },
    {
     "ename": "KeyboardInterrupt",
     "evalue": "",
     "output_type": "error",
     "traceback": [
      "\u001b[0;31m---------------------------------------------------------------------------\u001b[0m",
      "\u001b[0;31mKeyboardInterrupt\u001b[0m                         Traceback (most recent call last)",
      "\u001b[0;32m<ipython-input-12-a219d5ad1e0d>\u001b[0m in \u001b[0;36m<module>\u001b[0;34m()\u001b[0m\n\u001b[1;32m      5\u001b[0m               \u001b[0mepochs\u001b[0m\u001b[0;34m=\u001b[0m\u001b[0mepochs\u001b[0m\u001b[0;34m,\u001b[0m\u001b[0;34m\u001b[0m\u001b[0m\n\u001b[1;32m      6\u001b[0m               \u001b[0mvalidation_data\u001b[0m\u001b[0;34m=\u001b[0m\u001b[0;34m(\u001b[0m\u001b[0mx_test\u001b[0m\u001b[0;34m,\u001b[0m \u001b[0my_test\u001b[0m\u001b[0;34m)\u001b[0m\u001b[0;34m,\u001b[0m\u001b[0;34m\u001b[0m\u001b[0m\n\u001b[0;32m----> 7\u001b[0;31m               shuffle=True)\n\u001b[0m\u001b[1;32m      8\u001b[0m \u001b[0;32melse\u001b[0m\u001b[0;34m:\u001b[0m\u001b[0;34m\u001b[0m\u001b[0m\n\u001b[1;32m      9\u001b[0m     \u001b[0mprint\u001b[0m\u001b[0;34m(\u001b[0m\u001b[0;34m'Using real-time data augmentation.'\u001b[0m\u001b[0;34m)\u001b[0m\u001b[0;34m\u001b[0m\u001b[0m\n",
      "\u001b[0;32m~/anaconda3/lib/python3.5/site-packages/keras/engine/training.py\u001b[0m in \u001b[0;36mfit\u001b[0;34m(self, x, y, batch_size, epochs, verbose, callbacks, validation_split, validation_data, shuffle, class_weight, sample_weight, initial_epoch, steps_per_epoch, validation_steps, **kwargs)\u001b[0m\n\u001b[1;32m   1040\u001b[0m                                         \u001b[0minitial_epoch\u001b[0m\u001b[0;34m=\u001b[0m\u001b[0minitial_epoch\u001b[0m\u001b[0;34m,\u001b[0m\u001b[0;34m\u001b[0m\u001b[0m\n\u001b[1;32m   1041\u001b[0m                                         \u001b[0msteps_per_epoch\u001b[0m\u001b[0;34m=\u001b[0m\u001b[0msteps_per_epoch\u001b[0m\u001b[0;34m,\u001b[0m\u001b[0;34m\u001b[0m\u001b[0m\n\u001b[0;32m-> 1042\u001b[0;31m                                         validation_steps=validation_steps)\n\u001b[0m\u001b[1;32m   1043\u001b[0m \u001b[0;34m\u001b[0m\u001b[0m\n\u001b[1;32m   1044\u001b[0m     def evaluate(self, x=None, y=None,\n",
      "\u001b[0;32m~/anaconda3/lib/python3.5/site-packages/keras/engine/training_arrays.py\u001b[0m in \u001b[0;36mfit_loop\u001b[0;34m(model, f, ins, out_labels, batch_size, epochs, verbose, callbacks, val_f, val_ins, shuffle, callback_metrics, initial_epoch, steps_per_epoch, validation_steps)\u001b[0m\n\u001b[1;32m    197\u001b[0m                     \u001b[0mins_batch\u001b[0m\u001b[0;34m[\u001b[0m\u001b[0mi\u001b[0m\u001b[0;34m]\u001b[0m \u001b[0;34m=\u001b[0m \u001b[0mins_batch\u001b[0m\u001b[0;34m[\u001b[0m\u001b[0mi\u001b[0m\u001b[0;34m]\u001b[0m\u001b[0;34m.\u001b[0m\u001b[0mtoarray\u001b[0m\u001b[0;34m(\u001b[0m\u001b[0;34m)\u001b[0m\u001b[0;34m\u001b[0m\u001b[0m\n\u001b[1;32m    198\u001b[0m \u001b[0;34m\u001b[0m\u001b[0m\n\u001b[0;32m--> 199\u001b[0;31m                 \u001b[0mouts\u001b[0m \u001b[0;34m=\u001b[0m \u001b[0mf\u001b[0m\u001b[0;34m(\u001b[0m\u001b[0mins_batch\u001b[0m\u001b[0;34m)\u001b[0m\u001b[0;34m\u001b[0m\u001b[0m\n\u001b[0m\u001b[1;32m    200\u001b[0m                 \u001b[0;32mif\u001b[0m \u001b[0;32mnot\u001b[0m \u001b[0misinstance\u001b[0m\u001b[0;34m(\u001b[0m\u001b[0mouts\u001b[0m\u001b[0;34m,\u001b[0m \u001b[0mlist\u001b[0m\u001b[0;34m)\u001b[0m\u001b[0;34m:\u001b[0m\u001b[0;34m\u001b[0m\u001b[0m\n\u001b[1;32m    201\u001b[0m                     \u001b[0mouts\u001b[0m \u001b[0;34m=\u001b[0m \u001b[0;34m[\u001b[0m\u001b[0mouts\u001b[0m\u001b[0;34m]\u001b[0m\u001b[0;34m\u001b[0m\u001b[0m\n",
      "\u001b[0;32m~/anaconda3/lib/python3.5/site-packages/keras/backend/tensorflow_backend.py\u001b[0m in \u001b[0;36m__call__\u001b[0;34m(self, inputs)\u001b[0m\n\u001b[1;32m   2659\u001b[0m                 \u001b[0;32mreturn\u001b[0m \u001b[0mself\u001b[0m\u001b[0;34m.\u001b[0m\u001b[0m_legacy_call\u001b[0m\u001b[0;34m(\u001b[0m\u001b[0minputs\u001b[0m\u001b[0;34m)\u001b[0m\u001b[0;34m\u001b[0m\u001b[0m\n\u001b[1;32m   2660\u001b[0m \u001b[0;34m\u001b[0m\u001b[0m\n\u001b[0;32m-> 2661\u001b[0;31m             \u001b[0;32mreturn\u001b[0m \u001b[0mself\u001b[0m\u001b[0;34m.\u001b[0m\u001b[0m_call\u001b[0m\u001b[0;34m(\u001b[0m\u001b[0minputs\u001b[0m\u001b[0;34m)\u001b[0m\u001b[0;34m\u001b[0m\u001b[0m\n\u001b[0m\u001b[1;32m   2662\u001b[0m         \u001b[0;32melse\u001b[0m\u001b[0;34m:\u001b[0m\u001b[0;34m\u001b[0m\u001b[0m\n\u001b[1;32m   2663\u001b[0m             \u001b[0;32mif\u001b[0m \u001b[0mpy_any\u001b[0m\u001b[0;34m(\u001b[0m\u001b[0mis_tensor\u001b[0m\u001b[0;34m(\u001b[0m\u001b[0mx\u001b[0m\u001b[0;34m)\u001b[0m \u001b[0;32mfor\u001b[0m \u001b[0mx\u001b[0m \u001b[0;32min\u001b[0m \u001b[0minputs\u001b[0m\u001b[0;34m)\u001b[0m\u001b[0;34m:\u001b[0m\u001b[0;34m\u001b[0m\u001b[0m\n",
      "\u001b[0;32m~/anaconda3/lib/python3.5/site-packages/keras/backend/tensorflow_backend.py\u001b[0m in \u001b[0;36m_call\u001b[0;34m(self, inputs)\u001b[0m\n\u001b[1;32m   2629\u001b[0m                                 \u001b[0msymbol_vals\u001b[0m\u001b[0;34m,\u001b[0m\u001b[0;34m\u001b[0m\u001b[0m\n\u001b[1;32m   2630\u001b[0m                                 session)\n\u001b[0;32m-> 2631\u001b[0;31m         \u001b[0mfetched\u001b[0m \u001b[0;34m=\u001b[0m \u001b[0mself\u001b[0m\u001b[0;34m.\u001b[0m\u001b[0m_callable_fn\u001b[0m\u001b[0;34m(\u001b[0m\u001b[0;34m*\u001b[0m\u001b[0marray_vals\u001b[0m\u001b[0;34m)\u001b[0m\u001b[0;34m\u001b[0m\u001b[0m\n\u001b[0m\u001b[1;32m   2632\u001b[0m         \u001b[0;32mreturn\u001b[0m \u001b[0mfetched\u001b[0m\u001b[0;34m[\u001b[0m\u001b[0;34m:\u001b[0m\u001b[0mlen\u001b[0m\u001b[0;34m(\u001b[0m\u001b[0mself\u001b[0m\u001b[0;34m.\u001b[0m\u001b[0moutputs\u001b[0m\u001b[0;34m)\u001b[0m\u001b[0;34m]\u001b[0m\u001b[0;34m\u001b[0m\u001b[0m\n\u001b[1;32m   2633\u001b[0m \u001b[0;34m\u001b[0m\u001b[0m\n",
      "\u001b[0;32m~/anaconda3/lib/python3.5/site-packages/tensorflow/python/client/session.py\u001b[0m in \u001b[0;36m__call__\u001b[0;34m(self, *args)\u001b[0m\n\u001b[1;32m   1449\u001b[0m         \u001b[0;32mif\u001b[0m \u001b[0mself\u001b[0m\u001b[0;34m.\u001b[0m\u001b[0m_session\u001b[0m\u001b[0;34m.\u001b[0m\u001b[0m_created_with_new_api\u001b[0m\u001b[0;34m:\u001b[0m\u001b[0;34m\u001b[0m\u001b[0m\n\u001b[1;32m   1450\u001b[0m           return tf_session.TF_SessionRunCallable(\n\u001b[0;32m-> 1451\u001b[0;31m               self._session._session, self._handle, args, status, None)\n\u001b[0m\u001b[1;32m   1452\u001b[0m         \u001b[0;32melse\u001b[0m\u001b[0;34m:\u001b[0m\u001b[0;34m\u001b[0m\u001b[0m\n\u001b[1;32m   1453\u001b[0m           return tf_session.TF_DeprecatedSessionRunCallable(\n",
      "\u001b[0;31mKeyboardInterrupt\u001b[0m: "
     ]
    }
   ],
   "source": [
    "if not data_augmentation:\n",
    "    print('Not using data augmentation.')\n",
    "    model.fit(x_train, y_train,\n",
    "              batch_size=batch_size,\n",
    "              epochs=epochs,\n",
    "              validation_data=(x_test, y_test),\n",
    "              shuffle=True)\n",
    "else:\n",
    "    print('Using real-time data augmentation.')\n",
    "    # This will do preprocessing and realtime data augmentation:\n",
    "    datagen = ImageDataGenerator(\n",
    "        featurewise_center=False,  # set input mean to 0 over the dataset\n",
    "        samplewise_center=False,  # set each sample mean to 0\n",
    "        featurewise_std_normalization=False,  # divide inputs by std of the dataset\n",
    "        samplewise_std_normalization=False,  # divide each input by its std\n",
    "        zca_whitening=False,  # apply ZCA whitening\n",
    "        rotation_range=0,  # randomly rotate images in the range (degrees, 0 to 180)\n",
    "        width_shift_range=0.1,  # randomly shift images horizontally (fraction of total width)\n",
    "        height_shift_range=0.1,  # randomly shift images vertically (fraction of total height)\n",
    "        horizontal_flip=True,  # randomly flip images\n",
    "        vertical_flip=False)  # randomly flip images\n",
    "\n",
    "    # Compute quantities required for feature-wise normalization\n",
    "    # (std, mean, and principal components if ZCA whitening is applied).\n",
    "    datagen.fit(x_train)\n",
    "\n",
    "    # Fit the model on the batches generated by datagen.flow().\n",
    "    model.fit_generator(datagen.flow(x_train, y_train,\n",
    "                                     batch_size=batch_size),\n",
    "                        epochs=epochs,\n",
    "                        validation_data=(x_test, y_test),\n",
    "                        workers=4)"
   ]
  },
  {
   "cell_type": "code",
   "execution_count": 13,
   "metadata": {
    "scrolled": true
   },
   "outputs": [
    {
     "name": "stdout",
     "output_type": "stream",
     "text": [
      "Saved trained model at /Users/mattbrems/Documents/Documents/GA/DSI-EC-2/7-week/7.06-cnn-ii/solution-code/saved_models/keras_cifar10_trained_model.h5 \n"
     ]
    }
   ],
   "source": [
    "# Save model and weights\n",
    "if not os.path.isdir(save_dir):\n",
    "    os.makedirs(save_dir)\n",
    "model_path = os.path.join(save_dir, model_name)\n",
    "model.save(model_path)\n",
    "print('Saved trained model at %s ' % model_path)"
   ]
  },
  {
   "cell_type": "code",
   "execution_count": 14,
   "metadata": {},
   "outputs": [
    {
     "name": "stdout",
     "output_type": "stream",
     "text": [
      "10000/10000 [==============================] - 13s 1ms/step\n",
      "Test loss: 2.3004964290618894\n",
      "Test accuracy: 0.1003\n"
     ]
    }
   ],
   "source": [
    "# Score trained model.\n",
    "scores = model.evaluate(x_test, y_test, verbose=1)\n",
    "print('Test loss:', scores[0])\n",
    "print('Test accuracy:', scores[1])"
   ]
  },
  {
   "cell_type": "code",
   "execution_count": 15,
   "metadata": {},
   "outputs": [
    {
     "name": "stdout",
     "output_type": "stream",
     "text": [
      "_________________________________________________________________\n",
      "Layer (type)                 Output Shape              Param #   \n",
      "=================================================================\n",
      "conv2d_1 (Conv2D)            (None, 32, 32, 32)        896       \n",
      "_________________________________________________________________\n",
      "activation_1 (Activation)    (None, 32, 32, 32)        0         \n",
      "_________________________________________________________________\n",
      "conv2d_2 (Conv2D)            (None, 30, 30, 32)        9248      \n",
      "_________________________________________________________________\n",
      "activation_2 (Activation)    (None, 30, 30, 32)        0         \n",
      "_________________________________________________________________\n",
      "max_pooling2d_1 (MaxPooling2 (None, 15, 15, 32)        0         \n",
      "_________________________________________________________________\n",
      "dropout_1 (Dropout)          (None, 15, 15, 32)        0         \n",
      "_________________________________________________________________\n",
      "conv2d_3 (Conv2D)            (None, 15, 15, 64)        18496     \n",
      "_________________________________________________________________\n",
      "activation_3 (Activation)    (None, 15, 15, 64)        0         \n",
      "_________________________________________________________________\n",
      "conv2d_4 (Conv2D)            (None, 13, 13, 64)        36928     \n",
      "_________________________________________________________________\n",
      "activation_4 (Activation)    (None, 13, 13, 64)        0         \n",
      "_________________________________________________________________\n",
      "max_pooling2d_2 (MaxPooling2 (None, 6, 6, 64)          0         \n",
      "_________________________________________________________________\n",
      "dropout_2 (Dropout)          (None, 6, 6, 64)          0         \n",
      "_________________________________________________________________\n",
      "flatten_1 (Flatten)          (None, 2304)              0         \n",
      "_________________________________________________________________\n",
      "dense_1 (Dense)              (None, 512)               1180160   \n",
      "_________________________________________________________________\n",
      "activation_5 (Activation)    (None, 512)               0         \n",
      "_________________________________________________________________\n",
      "dropout_3 (Dropout)          (None, 512)               0         \n",
      "_________________________________________________________________\n",
      "dense_2 (Dense)              (None, 10)                5130      \n",
      "_________________________________________________________________\n",
      "activation_6 (Activation)    (None, 10)                0         \n",
      "=================================================================\n",
      "Total params: 1,250,858\n",
      "Trainable params: 1,250,858\n",
      "Non-trainable params: 0\n",
      "_________________________________________________________________\n"
     ]
    }
   ],
   "source": [
    "model.summary() # Check out summary of model."
   ]
  },
  {
   "cell_type": "markdown",
   "metadata": {},
   "source": [
    "## Model 2: Forecasting the Stock Market using the Stock Market"
   ]
  },
  {
   "cell_type": "code",
   "execution_count": 16,
   "metadata": {
    "collapsed": true
   },
   "outputs": [],
   "source": [
    "from utils import *\n",
    "\n",
    "import numpy as np\n",
    "import pandas as pd\n",
    "import matplotlib.pylab as plt\n",
    "\n",
    "from keras.models import Sequential\n",
    "from keras.layers.core import Dense, Dropout, Activation, Flatten\n",
    "from keras.layers import Convolution1D, MaxPooling1D\n",
    "from keras import regularizers\n",
    "from keras.layers.normalization import BatchNormalization\n",
    "from keras.layers.advanced_activations import *\n",
    "from keras.optimizers import Adam\n",
    "from keras.initializers import *\n",
    "\n",
    "from sklearn.model_selection import train_test_split\n",
    "\n",
    "import seaborn as sns\n",
    "sns.despine()"
   ]
  },
  {
   "cell_type": "code",
   "execution_count": 17,
   "metadata": {
    "collapsed": true
   },
   "outputs": [],
   "source": [
    "data_original = pd.read_csv('../AAPL1216.csv')[::-1]"
   ]
  },
  {
   "cell_type": "code",
   "execution_count": 18,
   "metadata": {},
   "outputs": [
    {
     "data": {
      "text/html": [
       "<div>\n",
       "<style scoped>\n",
       "    .dataframe tbody tr th:only-of-type {\n",
       "        vertical-align: middle;\n",
       "    }\n",
       "\n",
       "    .dataframe tbody tr th {\n",
       "        vertical-align: top;\n",
       "    }\n",
       "\n",
       "    .dataframe thead th {\n",
       "        text-align: right;\n",
       "    }\n",
       "</style>\n",
       "<table border=\"1\" class=\"dataframe\">\n",
       "  <thead>\n",
       "    <tr style=\"text-align: right;\">\n",
       "      <th></th>\n",
       "      <th>Date</th>\n",
       "      <th>Open</th>\n",
       "      <th>High</th>\n",
       "      <th>Low</th>\n",
       "      <th>Close</th>\n",
       "      <th>Volume</th>\n",
       "      <th>Adj Close</th>\n",
       "    </tr>\n",
       "  </thead>\n",
       "  <tbody>\n",
       "    <tr>\n",
       "      <th>1005</th>\n",
       "      <td>2012-01-03</td>\n",
       "      <td>409.399998</td>\n",
       "      <td>412.499989</td>\n",
       "      <td>408.999989</td>\n",
       "      <td>411.230000</td>\n",
       "      <td>75555200</td>\n",
       "      <td>53.278774</td>\n",
       "    </tr>\n",
       "    <tr>\n",
       "      <th>1004</th>\n",
       "      <td>2012-01-04</td>\n",
       "      <td>410.000011</td>\n",
       "      <td>414.680012</td>\n",
       "      <td>409.279995</td>\n",
       "      <td>413.440010</td>\n",
       "      <td>65005500</td>\n",
       "      <td>53.565102</td>\n",
       "    </tr>\n",
       "    <tr>\n",
       "      <th>1003</th>\n",
       "      <td>2012-01-05</td>\n",
       "      <td>414.950005</td>\n",
       "      <td>418.550007</td>\n",
       "      <td>412.670006</td>\n",
       "      <td>418.029995</td>\n",
       "      <td>67817400</td>\n",
       "      <td>54.159778</td>\n",
       "    </tr>\n",
       "    <tr>\n",
       "      <th>1002</th>\n",
       "      <td>2012-01-06</td>\n",
       "      <td>419.770008</td>\n",
       "      <td>422.749996</td>\n",
       "      <td>419.220009</td>\n",
       "      <td>422.400002</td>\n",
       "      <td>79573200</td>\n",
       "      <td>54.725955</td>\n",
       "    </tr>\n",
       "    <tr>\n",
       "      <th>1001</th>\n",
       "      <td>2012-01-09</td>\n",
       "      <td>425.499992</td>\n",
       "      <td>427.750004</td>\n",
       "      <td>421.349991</td>\n",
       "      <td>421.730000</td>\n",
       "      <td>98506100</td>\n",
       "      <td>54.639149</td>\n",
       "    </tr>\n",
       "  </tbody>\n",
       "</table>\n",
       "</div>"
      ],
      "text/plain": [
       "            Date        Open        High         Low       Close    Volume  \\\n",
       "1005  2012-01-03  409.399998  412.499989  408.999989  411.230000  75555200   \n",
       "1004  2012-01-04  410.000011  414.680012  409.279995  413.440010  65005500   \n",
       "1003  2012-01-05  414.950005  418.550007  412.670006  418.029995  67817400   \n",
       "1002  2012-01-06  419.770008  422.749996  419.220009  422.400002  79573200   \n",
       "1001  2012-01-09  425.499992  427.750004  421.349991  421.730000  98506100   \n",
       "\n",
       "      Adj Close  \n",
       "1005  53.278774  \n",
       "1004  53.565102  \n",
       "1003  54.159778  \n",
       "1002  54.725955  \n",
       "1001  54.639149  "
      ]
     },
     "execution_count": 18,
     "metadata": {},
     "output_type": "execute_result"
    }
   ],
   "source": [
    "data_original.head()"
   ]
  },
  {
   "cell_type": "code",
   "execution_count": 19,
   "metadata": {
    "collapsed": true
   },
   "outputs": [],
   "source": [
    "## Preprocessing\n",
    "\n",
    "openp = data_original.loc[:, 'Open'].tolist()\n",
    "highp = data_original.loc[:, 'High'].tolist()\n",
    "lowp = data_original.loc[:, 'Low'].tolist()\n",
    "closep = data_original.loc[:, 'Adj Close'].tolist()\n",
    "volumep = data_original.loc[:, 'Volume'].tolist()\n",
    "data_chng = data_original.loc[:, 'Adj Close'].pct_change().dropna().tolist()"
   ]
  },
  {
   "cell_type": "code",
   "execution_count": 20,
   "metadata": {
    "collapsed": true
   },
   "outputs": [],
   "source": [
    "WINDOW = 30\n",
    "EMB_SIZE = 6  # \"Embedding size\" a.k.a. input size\n",
    "STEP = 1\n",
    "FORECAST = 1\n",
    "\n",
    "X, Y = [], []"
   ]
  },
  {
   "cell_type": "code",
   "execution_count": 21,
   "metadata": {
    "collapsed": true
   },
   "outputs": [],
   "source": [
    "for i in range(0, len(data_original), STEP): \n",
    "    try:\n",
    "        o = openp[i:i+WINDOW]\n",
    "        h = highp[i:i+WINDOW]\n",
    "        l = lowp[i:i+WINDOW]\n",
    "        c = closep[i:i+WINDOW]\n",
    "        v = volumep[i:i+WINDOW]\n",
    "        d = data_chng[i:i+WINDOW]\n",
    "\n",
    "        o = (np.array(o) - np.mean(o)) / np.std(o)\n",
    "        h = (np.array(h) - np.mean(h)) / np.std(h)\n",
    "        l = (np.array(l) - np.mean(l)) / np.std(l)\n",
    "        c = (np.array(c) - np.mean(c)) / np.std(c)\n",
    "        v = (np.array(v) - np.mean(v)) / np.std(v)\n",
    "        d = (np.array(d) - np.mean(d)) / np.std(d)\n",
    "\n",
    "        x_i = closep[i:i+WINDOW]\n",
    "        y_i = closep[i+WINDOW+FORECAST]  \n",
    "\n",
    "        last_close = x_i[-1]\n",
    "        next_close = y_i\n",
    "\n",
    "        if last_close < next_close:\n",
    "            y_i = [1, 0]\n",
    "        else:\n",
    "            y_i = [0, 1] \n",
    "\n",
    "        x_i = np.column_stack((o, h, l, c, v, d))\n",
    "\n",
    "    except Exception as e:\n",
    "        break\n",
    "\n",
    "    X.append(x_i)\n",
    "    Y.append(y_i)"
   ]
  },
  {
   "cell_type": "code",
   "execution_count": 22,
   "metadata": {
    "collapsed": true
   },
   "outputs": [],
   "source": [
    "X, Y = np.array(X), np.array(Y)\n",
    "X_train, X_test, Y_train, Y_test = train_test_split(X, \n",
    "                                                    Y, \n",
    "                                                    test_size = 0.25, \n",
    "                                                    random_state = 42)\n",
    "\n",
    "X_train = np.reshape(X_train, (X_train.shape[0], X_train.shape[1], EMB_SIZE))\n",
    "X_test = np.reshape(X_test, (X_test.shape[0], X_test.shape[1], EMB_SIZE))"
   ]
  },
  {
   "cell_type": "code",
   "execution_count": 23,
   "metadata": {
    "collapsed": true
   },
   "outputs": [],
   "source": [
    "model = Sequential()\n",
    "model.add(Convolution1D(input_shape = (WINDOW, EMB_SIZE),\n",
    "                        filters = 16,\n",
    "                        kernel_size = 4,\n",
    "                        padding = 'same'))\n",
    "model.add(BatchNormalization()) ## speeds up computation by normalizing\n",
    "                                ## outputs from previous layer\n",
    "model.add(LeakyReLU())\n",
    "model.add(Dropout(0.5))"
   ]
  },
  {
   "cell_type": "code",
   "execution_count": 24,
   "metadata": {
    "collapsed": true
   },
   "outputs": [],
   "source": [
    "model.add(Convolution1D(filters = 8,\n",
    "                        kernel_size = 4,\n",
    "                        padding = 'same'))\n",
    "model.add(BatchNormalization())\n",
    "model.add(LeakyReLU())\n",
    "model.add(Dropout(0.5))"
   ]
  },
  {
   "cell_type": "code",
   "execution_count": 25,
   "metadata": {
    "collapsed": true
   },
   "outputs": [],
   "source": [
    "model.add(Flatten())\n",
    "\n",
    "model.add(Dense(64))\n",
    "model.add(BatchNormalization())\n",
    "model.add(LeakyReLU())"
   ]
  },
  {
   "cell_type": "code",
   "execution_count": 26,
   "metadata": {
    "collapsed": true
   },
   "outputs": [],
   "source": [
    "model.add(Dense(2))\n",
    "model.add(Activation('softmax'))"
   ]
  },
  {
   "cell_type": "code",
   "execution_count": 27,
   "metadata": {},
   "outputs": [
    {
     "name": "stdout",
     "output_type": "stream",
     "text": [
      "Train on 731 samples, validate on 244 samples\n",
      "Epoch 1/100\n",
      "731/731 [==============================] - 1s 2ms/step - loss: 0.9463 - acc: 0.5376 - val_loss: 0.7565 - val_acc: 0.4795\n",
      "Epoch 2/100\n",
      "731/731 [==============================] - 0s 104us/step - loss: 0.8498 - acc: 0.5513 - val_loss: 0.7280 - val_acc: 0.4959\n",
      "Epoch 3/100\n",
      "731/731 [==============================] - 0s 175us/step - loss: 0.7870 - acc: 0.5540 - val_loss: 0.7109 - val_acc: 0.5205\n",
      "Epoch 4/100\n",
      "731/731 [==============================] - 0s 147us/step - loss: 0.7277 - acc: 0.5869 - val_loss: 0.7053 - val_acc: 0.5410\n",
      "Epoch 5/100\n",
      "731/731 [==============================] - 0s 120us/step - loss: 0.7332 - acc: 0.5787 - val_loss: 0.7060 - val_acc: 0.5451\n",
      "Epoch 6/100\n",
      "731/731 [==============================] - 0s 144us/step - loss: 0.6727 - acc: 0.5882 - val_loss: 0.7036 - val_acc: 0.5574\n",
      "Epoch 7/100\n",
      "731/731 [==============================] - 0s 142us/step - loss: 0.7036 - acc: 0.5882 - val_loss: 0.6964 - val_acc: 0.5369\n",
      "Epoch 8/100\n",
      "731/731 [==============================] - 0s 167us/step - loss: 0.6682 - acc: 0.6115 - val_loss: 0.6892 - val_acc: 0.5656\n",
      "Epoch 9/100\n",
      "731/731 [==============================] - 0s 123us/step - loss: 0.6340 - acc: 0.6553 - val_loss: 0.6830 - val_acc: 0.5779\n",
      "Epoch 10/100\n",
      "731/731 [==============================] - 0s 151us/step - loss: 0.6691 - acc: 0.6019 - val_loss: 0.6739 - val_acc: 0.5779\n",
      "Epoch 11/100\n",
      "731/731 [==============================] - 0s 134us/step - loss: 0.6582 - acc: 0.6170 - val_loss: 0.6673 - val_acc: 0.5902\n",
      "Epoch 12/100\n",
      "731/731 [==============================] - 0s 140us/step - loss: 0.6536 - acc: 0.6238 - val_loss: 0.6620 - val_acc: 0.6025\n",
      "Epoch 13/100\n",
      "731/731 [==============================] - 0s 132us/step - loss: 0.6331 - acc: 0.6553 - val_loss: 0.6553 - val_acc: 0.6148\n",
      "Epoch 14/100\n",
      "731/731 [==============================] - 0s 133us/step - loss: 0.6394 - acc: 0.6361 - val_loss: 0.6506 - val_acc: 0.6270\n",
      "Epoch 15/100\n",
      "731/731 [==============================] - 0s 124us/step - loss: 0.6175 - acc: 0.6553 - val_loss: 0.6433 - val_acc: 0.6352\n",
      "Epoch 16/100\n",
      "731/731 [==============================] - 0s 114us/step - loss: 0.6185 - acc: 0.6566 - val_loss: 0.6352 - val_acc: 0.6270\n",
      "Epoch 17/100\n",
      "731/731 [==============================] - 0s 136us/step - loss: 0.6158 - acc: 0.6731 - val_loss: 0.6246 - val_acc: 0.6516\n",
      "Epoch 18/100\n",
      "731/731 [==============================] - 0s 127us/step - loss: 0.6079 - acc: 0.6635 - val_loss: 0.6190 - val_acc: 0.6557\n",
      "Epoch 19/100\n",
      "731/731 [==============================] - 0s 104us/step - loss: 0.6184 - acc: 0.6772 - val_loss: 0.6160 - val_acc: 0.6475\n",
      "Epoch 20/100\n",
      "731/731 [==============================] - 0s 105us/step - loss: 0.6279 - acc: 0.6772 - val_loss: 0.6137 - val_acc: 0.6516\n",
      "Epoch 21/100\n",
      "731/731 [==============================] - 0s 112us/step - loss: 0.5772 - acc: 0.7086 - val_loss: 0.6115 - val_acc: 0.6721\n",
      "Epoch 22/100\n",
      "731/731 [==============================] - 0s 128us/step - loss: 0.6121 - acc: 0.6594 - val_loss: 0.6096 - val_acc: 0.6803\n",
      "Epoch 23/100\n",
      "731/731 [==============================] - 0s 133us/step - loss: 0.5811 - acc: 0.7223 - val_loss: 0.6079 - val_acc: 0.6803\n",
      "Epoch 24/100\n",
      "731/731 [==============================] - 0s 150us/step - loss: 0.5838 - acc: 0.6936 - val_loss: 0.6041 - val_acc: 0.6639\n",
      "Epoch 25/100\n",
      "731/731 [==============================] - 0s 134us/step - loss: 0.5853 - acc: 0.6854 - val_loss: 0.5982 - val_acc: 0.6803\n",
      "Epoch 26/100\n",
      "731/731 [==============================] - 0s 130us/step - loss: 0.5722 - acc: 0.6717 - val_loss: 0.5930 - val_acc: 0.6926\n",
      "Epoch 27/100\n",
      "731/731 [==============================] - 0s 137us/step - loss: 0.5764 - acc: 0.7045 - val_loss: 0.5853 - val_acc: 0.7008\n",
      "Epoch 28/100\n",
      "731/731 [==============================] - 0s 131us/step - loss: 0.5553 - acc: 0.6990 - val_loss: 0.5796 - val_acc: 0.7008\n",
      "Epoch 29/100\n",
      "731/731 [==============================] - 0s 124us/step - loss: 0.5689 - acc: 0.7100 - val_loss: 0.5750 - val_acc: 0.7213\n",
      "Epoch 30/100\n",
      "731/731 [==============================] - 0s 140us/step - loss: 0.5769 - acc: 0.7059 - val_loss: 0.5741 - val_acc: 0.7049\n",
      "Epoch 31/100\n",
      "731/731 [==============================] - 0s 137us/step - loss: 0.5505 - acc: 0.7127 - val_loss: 0.5730 - val_acc: 0.7172\n",
      "Epoch 32/100\n",
      "731/731 [==============================] - 0s 138us/step - loss: 0.5646 - acc: 0.7155 - val_loss: 0.5708 - val_acc: 0.7090\n",
      "Epoch 33/100\n",
      "731/731 [==============================] - 0s 136us/step - loss: 0.5341 - acc: 0.7278 - val_loss: 0.5701 - val_acc: 0.6967\n",
      "Epoch 34/100\n",
      "731/731 [==============================] - 0s 146us/step - loss: 0.5527 - acc: 0.7237 - val_loss: 0.5680 - val_acc: 0.6926\n",
      "Epoch 35/100\n",
      "731/731 [==============================] - 0s 143us/step - loss: 0.5439 - acc: 0.7250 - val_loss: 0.5629 - val_acc: 0.6967\n",
      "Epoch 36/100\n",
      "731/731 [==============================] - 0s 128us/step - loss: 0.5529 - acc: 0.7291 - val_loss: 0.5584 - val_acc: 0.7090\n",
      "Epoch 37/100\n",
      "731/731 [==============================] - 0s 133us/step - loss: 0.5469 - acc: 0.7319 - val_loss: 0.5566 - val_acc: 0.7008\n",
      "Epoch 38/100\n",
      "731/731 [==============================] - 0s 122us/step - loss: 0.5361 - acc: 0.7264 - val_loss: 0.5564 - val_acc: 0.7131\n",
      "Epoch 39/100\n",
      "731/731 [==============================] - 0s 126us/step - loss: 0.5458 - acc: 0.7291 - val_loss: 0.5551 - val_acc: 0.7131\n",
      "Epoch 40/100\n",
      "731/731 [==============================] - 0s 128us/step - loss: 0.5454 - acc: 0.7182 - val_loss: 0.5563 - val_acc: 0.7008\n",
      "Epoch 41/100\n",
      "731/731 [==============================] - 0s 116us/step - loss: 0.5431 - acc: 0.7196 - val_loss: 0.5549 - val_acc: 0.7090\n",
      "Epoch 42/100\n",
      "731/731 [==============================] - 0s 97us/step - loss: 0.5352 - acc: 0.7510 - val_loss: 0.5538 - val_acc: 0.7049\n",
      "Epoch 43/100\n",
      "731/731 [==============================] - 0s 113us/step - loss: 0.5137 - acc: 0.7551 - val_loss: 0.5489 - val_acc: 0.7213\n",
      "Epoch 44/100\n",
      "731/731 [==============================] - 0s 121us/step - loss: 0.5295 - acc: 0.7332 - val_loss: 0.5447 - val_acc: 0.7377\n",
      "Epoch 45/100\n",
      "731/731 [==============================] - 0s 130us/step - loss: 0.5481 - acc: 0.7182 - val_loss: 0.5444 - val_acc: 0.7336\n",
      "Epoch 46/100\n",
      "731/731 [==============================] - 0s 148us/step - loss: 0.5246 - acc: 0.7524 - val_loss: 0.5457 - val_acc: 0.7336\n",
      "Epoch 47/100\n",
      "731/731 [==============================] - 0s 144us/step - loss: 0.5193 - acc: 0.7538 - val_loss: 0.5428 - val_acc: 0.7295\n",
      "Epoch 48/100\n",
      "731/731 [==============================] - 0s 126us/step - loss: 0.5105 - acc: 0.7715 - val_loss: 0.5377 - val_acc: 0.7213\n",
      "Epoch 49/100\n",
      "731/731 [==============================] - 0s 133us/step - loss: 0.5127 - acc: 0.7442 - val_loss: 0.5346 - val_acc: 0.7295\n",
      "Epoch 50/100\n",
      "731/731 [==============================] - 0s 139us/step - loss: 0.5175 - acc: 0.7524 - val_loss: 0.5351 - val_acc: 0.7254\n",
      "Epoch 51/100\n",
      "731/731 [==============================] - 0s 146us/step - loss: 0.5073 - acc: 0.7551 - val_loss: 0.5378 - val_acc: 0.7377\n",
      "Epoch 52/100\n",
      "731/731 [==============================] - 0s 147us/step - loss: 0.5140 - acc: 0.7469 - val_loss: 0.5384 - val_acc: 0.7418\n",
      "Epoch 53/100\n",
      "731/731 [==============================] - 0s 125us/step - loss: 0.5137 - acc: 0.7346 - val_loss: 0.5386 - val_acc: 0.7295\n",
      "Epoch 54/100\n",
      "731/731 [==============================] - 0s 138us/step - loss: 0.4994 - acc: 0.7538 - val_loss: 0.5360 - val_acc: 0.7295\n",
      "Epoch 55/100\n",
      "731/731 [==============================] - 0s 128us/step - loss: 0.5068 - acc: 0.7551 - val_loss: 0.5316 - val_acc: 0.7172\n",
      "Epoch 56/100\n",
      "731/731 [==============================] - 0s 145us/step - loss: 0.5329 - acc: 0.7319 - val_loss: 0.5274 - val_acc: 0.7131\n",
      "Epoch 57/100\n",
      "731/731 [==============================] - 0s 132us/step - loss: 0.5342 - acc: 0.7196 - val_loss: 0.5251 - val_acc: 0.7049\n",
      "Epoch 58/100\n",
      "731/731 [==============================] - 0s 138us/step - loss: 0.5174 - acc: 0.7497 - val_loss: 0.5227 - val_acc: 0.7254\n",
      "Epoch 59/100\n",
      "731/731 [==============================] - 0s 144us/step - loss: 0.5230 - acc: 0.7305 - val_loss: 0.5244 - val_acc: 0.7090\n",
      "Epoch 60/100\n",
      "731/731 [==============================] - 0s 135us/step - loss: 0.4962 - acc: 0.7620 - val_loss: 0.5273 - val_acc: 0.7295\n"
     ]
    },
    {
     "name": "stdout",
     "output_type": "stream",
     "text": [
      "Epoch 61/100\n",
      "731/731 [==============================] - 0s 143us/step - loss: 0.5063 - acc: 0.7647 - val_loss: 0.5278 - val_acc: 0.7213\n",
      "Epoch 62/100\n",
      "731/731 [==============================] - 0s 133us/step - loss: 0.4761 - acc: 0.7702 - val_loss: 0.5318 - val_acc: 0.7295\n",
      "Epoch 63/100\n",
      "731/731 [==============================] - 0s 133us/step - loss: 0.4804 - acc: 0.7483 - val_loss: 0.5334 - val_acc: 0.7172\n",
      "Epoch 64/100\n",
      "731/731 [==============================] - 0s 134us/step - loss: 0.5120 - acc: 0.7469 - val_loss: 0.5333 - val_acc: 0.7172\n",
      "Epoch 65/100\n",
      "731/731 [==============================] - 0s 138us/step - loss: 0.5025 - acc: 0.7579 - val_loss: 0.5359 - val_acc: 0.7049\n",
      "Epoch 66/100\n",
      "731/731 [==============================] - 0s 138us/step - loss: 0.5009 - acc: 0.7442 - val_loss: 0.5405 - val_acc: 0.7008\n",
      "Epoch 67/100\n",
      "731/731 [==============================] - 0s 140us/step - loss: 0.5196 - acc: 0.7469 - val_loss: 0.5443 - val_acc: 0.7049\n",
      "Epoch 68/100\n",
      "731/731 [==============================] - 0s 123us/step - loss: 0.4820 - acc: 0.7620 - val_loss: 0.5435 - val_acc: 0.7049\n",
      "Epoch 69/100\n",
      "731/731 [==============================] - 0s 125us/step - loss: 0.4854 - acc: 0.7743 - val_loss: 0.5426 - val_acc: 0.7008\n",
      "Epoch 70/100\n",
      "731/731 [==============================] - 0s 110us/step - loss: 0.5148 - acc: 0.7592 - val_loss: 0.5382 - val_acc: 0.7008\n",
      "Epoch 71/100\n",
      "731/731 [==============================] - 0s 123us/step - loss: 0.5112 - acc: 0.7551 - val_loss: 0.5342 - val_acc: 0.7049\n",
      "Epoch 72/100\n",
      "731/731 [==============================] - ETA: 0s - loss: 0.5084 - acc: 0.759 - 0s 143us/step - loss: 0.5145 - acc: 0.7538 - val_loss: 0.5314 - val_acc: 0.7008\n",
      "Epoch 73/100\n",
      "731/731 [==============================] - 0s 138us/step - loss: 0.5007 - acc: 0.7524 - val_loss: 0.5287 - val_acc: 0.7049\n",
      "Epoch 74/100\n",
      "731/731 [==============================] - 0s 132us/step - loss: 0.4812 - acc: 0.7715 - val_loss: 0.5277 - val_acc: 0.6967\n",
      "Epoch 75/100\n",
      "731/731 [==============================] - 0s 131us/step - loss: 0.4900 - acc: 0.7456 - val_loss: 0.5270 - val_acc: 0.7049\n",
      "Epoch 76/100\n",
      "731/731 [==============================] - 0s 145us/step - loss: 0.4924 - acc: 0.7551 - val_loss: 0.5290 - val_acc: 0.7090\n",
      "Epoch 77/100\n",
      "731/731 [==============================] - 0s 128us/step - loss: 0.4775 - acc: 0.7893 - val_loss: 0.5323 - val_acc: 0.7049\n",
      "Epoch 78/100\n",
      "731/731 [==============================] - 0s 139us/step - loss: 0.4905 - acc: 0.7729 - val_loss: 0.5315 - val_acc: 0.7049\n",
      "Epoch 79/100\n",
      "731/731 [==============================] - 0s 136us/step - loss: 0.4873 - acc: 0.7633 - val_loss: 0.5322 - val_acc: 0.7049\n",
      "Epoch 80/100\n",
      "731/731 [==============================] - 0s 145us/step - loss: 0.4883 - acc: 0.7661 - val_loss: 0.5334 - val_acc: 0.7008\n",
      "Epoch 81/100\n",
      "731/731 [==============================] - 0s 153us/step - loss: 0.4811 - acc: 0.7661 - val_loss: 0.5327 - val_acc: 0.7049\n",
      "Epoch 82/100\n",
      "731/731 [==============================] - 0s 147us/step - loss: 0.4559 - acc: 0.7688 - val_loss: 0.5306 - val_acc: 0.7049\n",
      "Epoch 83/100\n",
      "731/731 [==============================] - 0s 151us/step - loss: 0.4739 - acc: 0.7620 - val_loss: 0.5289 - val_acc: 0.7172\n",
      "Epoch 84/100\n",
      "731/731 [==============================] - 0s 147us/step - loss: 0.4959 - acc: 0.7688 - val_loss: 0.5205 - val_acc: 0.7254\n",
      "Epoch 85/100\n",
      "731/731 [==============================] - 0s 137us/step - loss: 0.4851 - acc: 0.7688 - val_loss: 0.5186 - val_acc: 0.7213\n",
      "Epoch 86/100\n",
      "731/731 [==============================] - 0s 121us/step - loss: 0.5002 - acc: 0.7620 - val_loss: 0.5227 - val_acc: 0.7213\n",
      "Epoch 87/100\n",
      "731/731 [==============================] - 0s 142us/step - loss: 0.4804 - acc: 0.7715 - val_loss: 0.5223 - val_acc: 0.7090\n",
      "Epoch 88/100\n",
      "731/731 [==============================] - 0s 132us/step - loss: 0.4888 - acc: 0.7770 - val_loss: 0.5218 - val_acc: 0.7049\n",
      "Epoch 89/100\n",
      "731/731 [==============================] - 0s 145us/step - loss: 0.4738 - acc: 0.7756 - val_loss: 0.5237 - val_acc: 0.7090\n",
      "Epoch 90/100\n",
      "731/731 [==============================] - 0s 138us/step - loss: 0.4993 - acc: 0.7688 - val_loss: 0.5253 - val_acc: 0.7090\n",
      "Epoch 91/100\n",
      "731/731 [==============================] - 0s 141us/step - loss: 0.4535 - acc: 0.7975 - val_loss: 0.5270 - val_acc: 0.7131\n",
      "Epoch 92/100\n",
      "731/731 [==============================] - ETA: 0s - loss: 0.4599 - acc: 0.785 - 0s 126us/step - loss: 0.4705 - acc: 0.7852 - val_loss: 0.5295 - val_acc: 0.7008\n",
      "Epoch 93/100\n",
      "731/731 [==============================] - 0s 138us/step - loss: 0.4705 - acc: 0.7770 - val_loss: 0.5278 - val_acc: 0.7049\n",
      "Epoch 94/100\n",
      "731/731 [==============================] - 0s 107us/step - loss: 0.4771 - acc: 0.7784 - val_loss: 0.5253 - val_acc: 0.7049\n",
      "Epoch 95/100\n",
      "731/731 [==============================] - 0s 120us/step - loss: 0.4838 - acc: 0.7770 - val_loss: 0.5264 - val_acc: 0.7131\n",
      "Epoch 96/100\n",
      "731/731 [==============================] - 0s 115us/step - loss: 0.4749 - acc: 0.7825 - val_loss: 0.5263 - val_acc: 0.7213\n",
      "Epoch 97/100\n",
      "731/731 [==============================] - 0s 147us/step - loss: 0.4768 - acc: 0.7852 - val_loss: 0.5250 - val_acc: 0.7172\n",
      "Epoch 98/100\n",
      "731/731 [==============================] - 0s 139us/step - loss: 0.4496 - acc: 0.7989 - val_loss: 0.5236 - val_acc: 0.7172\n",
      "Epoch 99/100\n",
      "731/731 [==============================] - 0s 138us/step - loss: 0.4664 - acc: 0.7866 - val_loss: 0.5256 - val_acc: 0.7131\n",
      "Epoch 100/100\n",
      "731/731 [==============================] - 0s 144us/step - loss: 0.4570 - acc: 0.7948 - val_loss: 0.5246 - val_acc: 0.7213\n"
     ]
    }
   ],
   "source": [
    "model.compile(optimizer = 'adam', \n",
    "              loss='categorical_crossentropy',\n",
    "              metrics=['accuracy'])\n",
    "\n",
    "history = model.fit(X_train, Y_train, \n",
    "          epochs = 100, \n",
    "          batch_size = 128, \n",
    "          verbose=1, \n",
    "          validation_data=(X_test, Y_test),\n",
    "          shuffle=True)"
   ]
  },
  {
   "cell_type": "code",
   "execution_count": 28,
   "metadata": {
    "collapsed": true
   },
   "outputs": [],
   "source": [
    "# Make predictions.\n",
    "pred = model.predict(np.array(X_test))"
   ]
  },
  {
   "cell_type": "code",
   "execution_count": 29,
   "metadata": {},
   "outputs": [
    {
     "name": "stdout",
     "output_type": "stream",
     "text": [
      "['TN', 'FP']\n",
      "['FN', 'TP']\n",
      "\n",
      "[[0.34836066 0.15983607]\n",
      " [0.11885246 0.37295082]]\n"
     ]
    }
   ],
   "source": [
    "from sklearn.metrics import confusion_matrix\n",
    "C = confusion_matrix([np.argmax(y) for y in Y_test], [np.argmax(y) for y in pred])\n",
    "\n",
    "print([\"TN\", \"FP\"])\n",
    "print([\"FN\", \"TP\"])\n",
    "print()\n",
    "print(C / C.astype(np.float).sum())"
   ]
  },
  {
   "cell_type": "code",
   "execution_count": 30,
   "metadata": {},
   "outputs": [
    {
     "data": {
      "text/plain": [
       "<Figure size 432x288 with 0 Axes>"
      ]
     },
     "metadata": {},
     "output_type": "display_data"
    },
    {
     "data": {
      "image/png": "[encoded data removed]",
      "text/plain": [
       "<Figure size 432x288 with 1 Axes>"
      ]
     },
     "metadata": {},
     "output_type": "display_data"
    }
   ],
   "source": [
    "plt.figure()\n",
    "plt.plot(history.history['loss'])\n",
    "plt.plot(history.history['val_loss'])\n",
    "plt.title('model loss')\n",
    "plt.ylabel('loss')\n",
    "plt.xlabel('epoch')\n",
    "plt.legend(['train', 'test'], loc='best') ## I love this loc = 'best' command.\n",
    "plt.show();"
   ]
  },
  {
   "cell_type": "code",
   "execution_count": 31,
   "metadata": {},
   "outputs": [
    {
     "data": {
      "image/png": "[encoded data removed]",
      "text/plain": [
       "<Figure size 432x288 with 1 Axes>"
      ]
     },
     "metadata": {},
     "output_type": "display_data"
    }
   ],
   "source": [
    "plt.figure()\n",
    "plt.plot(history.history['acc'])\n",
    "plt.plot(history.history['val_acc'])\n",
    "plt.title('model accuracy')\n",
    "plt.ylabel('accuracy')\n",
    "plt.xlabel('epoch')\n",
    "plt.legend(['train', 'test'], loc='best')\n",
    "plt.show()"
   ]
  },
  {
   "cell_type": "markdown",
   "metadata": {},
   "source": [
    "<details> <summary> How might we improve the performance of this model?\n",
    "</summary>\n",
    "```\n",
    "- Our test error looks as though it's leveled off, but it's possible we're in a local minimum. If so, our model would be suffering from some error due to bias. We can account for that by:\n",
    "    - increasing the number of epochs.\n",
    "    - building a deeper network.\n",
    "    - regularizing less than we are now (perhaps dropout is inflating our bias, for example).\n",
    "    - adding more features!\n",
    "    - If we try these things and our model continually performs worse, then we have evidence that our model is at risk of overfitting, so we wouldn't want to make our model more complex.\n",
    "- We might also return to \"standard\" classification techniques:\n",
    "    - consider changing our threshold for predicting \"yes.\"\n",
    "    - we might want to optimize for specificity or sensitivity.\n",
    "    - luckily our classes look balanced, so no adjustment is needed there.\n",
    "```\n",
    "</details>"
   ]
  },
  {
   "cell_type": "markdown",
   "metadata": {},
   "source": [
    "<details> <summary> What changes would I make to turn this into a regression problem?\n",
    "</summary>\n",
    "```\n",
    "- Instead of predicting Y in {higher, lower}, we want to predict the change in the price, which can *theoretically* be anywhere between negative infinity and positive infinity.\n",
    "    - Change the output layer to only have one node.\n",
    "    - Change the final activation function to be linear.\n",
    "- Note: It'll be easier for us to predict higher versus lower than to predict the exact amount of change in a stock price.\n",
    "```\n",
    "</details>"
   ]
  }
 ],
 "metadata": {
  "kernelspec": {
   "display_name": "Python 3",
   "language": "python",
   "name": "python3"
  },
  "language_info": {
   "codemirror_mode": {
    "name": "ipython",
    "version": 3
   },
   "file_extension": ".py",
   "mimetype": "text/x-python",
   "name": "python",
   "nbconvert_exporter": "python",
   "pygments_lexer": "ipython3",
   "version": "3.6.1"
  }
 },
 "nbformat": 4,
 "nbformat_minor": 2
}
