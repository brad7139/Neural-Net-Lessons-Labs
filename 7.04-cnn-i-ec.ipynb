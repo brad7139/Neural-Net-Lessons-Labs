{
 "cells": [
  {
   "cell_type": "markdown",
   "metadata": {},
   "source": [
    "## ![](https://ga-dash.s3.amazonaws.com/production/assets/logo-9f88ae6c9c3871690e33280fcf557f33.png) Convolutional Neural Networks I\n",
    "\n",
    "### LEARNING OBJECTIVES\n",
    "_By the end of this lesson, students should be able to:_\n",
    "- Build convolutional neural networks in Keras."
   ]
  },
  {
   "cell_type": "markdown",
   "metadata": {},
   "source": [
    "We'll recreate a very similar neural network to the example provided at the end of the notes."
   ]
  },
  {
   "cell_type": "code",
   "execution_count": 1,
   "metadata": {
    "scrolled": true
   },
   "outputs": [
    {
     "name": "stderr",
     "output_type": "stream",
     "text": [
      "/Users/mattbrems/anaconda3/lib/python3.5/site-packages/h5py/__init__.py:34: FutureWarning: Conversion of the second argument of issubdtype from `float` to `np.floating` is deprecated. In future, it will be treated as `np.float64 == np.dtype(float).type`.\n",
      "  from ._conv import register_converters as _register_converters\n",
      "Using TensorFlow backend.\n",
      "/Users/mattbrems/anaconda3/lib/python3.5/importlib/_bootstrap.py:222: RuntimeWarning: compiletime version 3.6 of module 'tensorflow.python.framework.fast_tensor_util' does not match runtime version 3.5\n",
      "  return f(*args, **kwds)\n"
     ]
    },
    {
     "name": "stdout",
     "output_type": "stream",
     "text": [
      "Couldn't import dot_parser, loading of dot files will not be possible.\n"
     ]
    }
   ],
   "source": [
    "# 1. Import libraries and modules\n",
    "import numpy as np\n",
    "np.random.seed(123)  # for reproducibility\n",
    "\n",
    "from keras.models import Sequential\n",
    "from keras.layers import Dense, Dropout, Activation, Flatten\n",
    "from keras.layers import Convolution2D, MaxPooling2D\n",
    "from keras.utils import np_utils\n",
    "from keras.datasets import mnist\n",
    " \n",
    "# 2. Load pre-shuffled MNIST data into train and test sets\n",
    "(X_train, y_train), (X_test, y_test) = mnist.load_data()"
   ]
  },
  {
   "cell_type": "code",
   "execution_count": 2,
   "metadata": {},
   "outputs": [
    {
     "data": {
      "text/plain": [
       "array([[[0, 0, 0, ..., 0, 0, 0],\n",
       "        [0, 0, 0, ..., 0, 0, 0],\n",
       "        [0, 0, 0, ..., 0, 0, 0],\n",
       "        ...,\n",
       "        [0, 0, 0, ..., 0, 0, 0],\n",
       "        [0, 0, 0, ..., 0, 0, 0],\n",
       "        [0, 0, 0, ..., 0, 0, 0]],\n",
       "\n",
       "       [[0, 0, 0, ..., 0, 0, 0],\n",
       "        [0, 0, 0, ..., 0, 0, 0],\n",
       "        [0, 0, 0, ..., 0, 0, 0],\n",
       "        ...,\n",
       "        [0, 0, 0, ..., 0, 0, 0],\n",
       "        [0, 0, 0, ..., 0, 0, 0],\n",
       "        [0, 0, 0, ..., 0, 0, 0]],\n",
       "\n",
       "       [[0, 0, 0, ..., 0, 0, 0],\n",
       "        [0, 0, 0, ..., 0, 0, 0],\n",
       "        [0, 0, 0, ..., 0, 0, 0],\n",
       "        ...,\n",
       "        [0, 0, 0, ..., 0, 0, 0],\n",
       "        [0, 0, 0, ..., 0, 0, 0],\n",
       "        [0, 0, 0, ..., 0, 0, 0]],\n",
       "\n",
       "       [[0, 0, 0, ..., 0, 0, 0],\n",
       "        [0, 0, 0, ..., 0, 0, 0],\n",
       "        [0, 0, 0, ..., 0, 0, 0],\n",
       "        ...,\n",
       "        [0, 0, 0, ..., 0, 0, 0],\n",
       "        [0, 0, 0, ..., 0, 0, 0],\n",
       "        [0, 0, 0, ..., 0, 0, 0]],\n",
       "\n",
       "       [[0, 0, 0, ..., 0, 0, 0],\n",
       "        [0, 0, 0, ..., 0, 0, 0],\n",
       "        [0, 0, 0, ..., 0, 0, 0],\n",
       "        ...,\n",
       "        [0, 0, 0, ..., 0, 0, 0],\n",
       "        [0, 0, 0, ..., 0, 0, 0],\n",
       "        [0, 0, 0, ..., 0, 0, 0]]], dtype=uint8)"
      ]
     },
     "execution_count": 2,
     "metadata": {},
     "output_type": "execute_result"
    }
   ],
   "source": [
    "X_train[0:5]"
   ]
  },
  {
   "cell_type": "code",
   "execution_count": 4,
   "metadata": {},
   "outputs": [
    {
     "data": {
      "text/plain": [
       "array([  0,   0,   0,   0,   0,   0,   0,   0,   0,   0,   0,   0,   3,\n",
       "        18,  18,  18, 126, 136, 175,  26, 166, 255, 247, 127,   0,   0,\n",
       "         0,   0], dtype=uint8)"
      ]
     },
     "execution_count": 4,
     "metadata": {},
     "output_type": "execute_result"
    }
   ],
   "source": [
    "X_train[0][5]"
   ]
  },
  {
   "cell_type": "code",
   "execution_count": 5,
   "metadata": {
    "collapsed": true
   },
   "outputs": [],
   "source": [
    "# 3. Preprocess our input data.\n",
    "\n",
    "# Reshaping here will make the array work more nicely with Keras.\n",
    "X_train = X_train.reshape(X_train.shape[0], 28, 28, 1)\n",
    "X_test = X_test.reshape(X_test.shape[0], 28, 28, 1)\n",
    "\n",
    "# Switching from int8 to float32.\n",
    "X_train = X_train.astype('float32')\n",
    "X_test = X_test.astype('float32')\n",
    "\n",
    "# Convert 0-255 range to 0-1 range.\n",
    "X_train /= 255\n",
    "X_test /= 255"
   ]
  },
  {
   "cell_type": "code",
   "execution_count": 6,
   "metadata": {},
   "outputs": [
    {
     "data": {
      "text/plain": [
       "array([[0.        ],\n",
       "       [0.        ],\n",
       "       [0.        ],\n",
       "       [0.        ],\n",
       "       [0.        ],\n",
       "       [0.        ],\n",
       "       [0.        ],\n",
       "       [0.        ],\n",
       "       [0.        ],\n",
       "       [0.        ],\n",
       "       [0.        ],\n",
       "       [0.        ],\n",
       "       [0.01176471],\n",
       "       [0.07058824],\n",
       "       [0.07058824],\n",
       "       [0.07058824],\n",
       "       [0.49411765],\n",
       "       [0.53333336],\n",
       "       [0.6862745 ],\n",
       "       [0.10196079],\n",
       "       [0.6509804 ],\n",
       "       [1.        ],\n",
       "       [0.96862745],\n",
       "       [0.49803922],\n",
       "       [0.        ],\n",
       "       [0.        ],\n",
       "       [0.        ],\n",
       "       [0.        ]], dtype=float32)"
      ]
     },
     "execution_count": 6,
     "metadata": {},
     "output_type": "execute_result"
    }
   ],
   "source": [
    "X_train[0][5]"
   ]
  },
  {
   "cell_type": "code",
   "execution_count": 7,
   "metadata": {},
   "outputs": [
    {
     "data": {
      "text/plain": [
       "array([5, 0, 4, 1, 9], dtype=uint8)"
      ]
     },
     "execution_count": 7,
     "metadata": {},
     "output_type": "execute_result"
    }
   ],
   "source": [
    "# 4. Preprocess our class labels.\n",
    "\n",
    "y_train[0:5]"
   ]
  },
  {
   "cell_type": "code",
   "execution_count": 8,
   "metadata": {
    "collapsed": true
   },
   "outputs": [],
   "source": [
    "# Convert individual numbers in y_train to categorical output.\n",
    "\n",
    "Y_train = np_utils.to_categorical(y_train, 10)\n",
    "Y_test = np_utils.to_categorical(y_test, 10)"
   ]
  },
  {
   "cell_type": "code",
   "execution_count": 9,
   "metadata": {},
   "outputs": [
    {
     "data": {
      "text/plain": [
       "array([[0., 0., 0., 0., 0., 1., 0., 0., 0., 0.],\n",
       "       [1., 0., 0., 0., 0., 0., 0., 0., 0., 0.],\n",
       "       [0., 0., 0., 0., 1., 0., 0., 0., 0., 0.],\n",
       "       [0., 1., 0., 0., 0., 0., 0., 0., 0., 0.],\n",
       "       [0., 0., 0., 0., 0., 0., 0., 0., 0., 1.],\n",
       "       [0., 0., 1., 0., 0., 0., 0., 0., 0., 0.],\n",
       "       [0., 1., 0., 0., 0., 0., 0., 0., 0., 0.],\n",
       "       [0., 0., 0., 1., 0., 0., 0., 0., 0., 0.],\n",
       "       [0., 1., 0., 0., 0., 0., 0., 0., 0., 0.],\n",
       "       [0., 0., 0., 0., 1., 0., 0., 0., 0., 0.]], dtype=float32)"
      ]
     },
     "execution_count": 9,
     "metadata": {},
     "output_type": "execute_result"
    }
   ],
   "source": [
    "Y_train[0:10]"
   ]
  },
  {
   "cell_type": "markdown",
   "metadata": {},
   "source": [
    "60 parameters (in Conv2D layer)\n",
    "\n",
    "each filter was 3x3. <-- 9 parameters\n",
    "6 filters <-- 6 filters x 9 parameters per filter = 54 parameters\n",
    "for each channel (a.k.a. result from filter), we have 1 bias parameter <-- 1 parameter per filter x 6 filters = 6 parameters\n",
    "\n",
    "Answer: 54 parameters (within filters) + 6 parameters (bias) = 60 parameters"
   ]
  },
  {
   "cell_type": "markdown",
   "metadata": {},
   "source": [
    "16 filters\n",
    "3x3 kernel size\n",
    "\n",
    "16 filters x 9 parameters per filter = 144 filters\n",
    "144 filters per channel x 6 channels = 864 filters\n",
    "16 filters in the \"new layer,\" we have 16 bias parameters\n",
    "--> 864 + 16 = 880"
   ]
  },
  {
   "cell_type": "code",
   "execution_count": 10,
   "metadata": {
    "collapsed": true
   },
   "outputs": [],
   "source": [
    "## 5. Define model architecture.\n",
    "\n",
    "model = Sequential() # Instantiate our NN in the same way.\n",
    "\n",
    "model.add(Convolution2D(filters = 6,     # number of filters/channels\n",
    "                        kernel_size = 3, # filters are 3x3\n",
    "                        activation = 'relu',\n",
    "                        input_shape = (28, 28, 1))) # (height, width, depth)\n",
    "\n",
    "model.add(MaxPooling2D(pool_size = (2,2))) # 2x2 filter\n",
    "# by default, MaxPooling2D will pool over non-overlapping regions\n",
    "\n",
    "model.add(Convolution2D(filters = 16,\n",
    "                        kernel_size = 3,\n",
    "                        activation = 'relu'))\n",
    "\n",
    "model.add(MaxPooling2D(pool_size = (2,2)))\n",
    "\n",
    "model.add(Flatten()) # converts \"box\" to vertical array of nodes\n",
    "\n",
    "model.add(Dense(128, activation = 'relu')) # finally at the FC layer(s)\n",
    "\n",
    "model.add(Dropout(0.5)) # randomly dropping out 50% of \n",
    "                        # nodes during training\n",
    "\n",
    "model.add(Dense(10, activation = 'softmax'))\n",
    "\n",
    "# 10 nodes because 10 possible outputs/values for Y {0, 1, ..., 9}\n",
    "# softmax activation because it ensures my predictions are\n",
    "# non-negative and they sum to 100% for a given observation"
   ]
  },
  {
   "cell_type": "code",
   "execution_count": 11,
   "metadata": {
    "collapsed": true
   },
   "outputs": [],
   "source": [
    "# 6. Compile model.\n",
    "\n",
    "model.compile(loss = 'categorical_crossentropy',\n",
    "              # common choice for unordered discrete predictions\n",
    "              optimizer = 'adam',\n",
    "              # more sophisticated version of gradient descent\n",
    "              metrics = ['accuracy'])"
   ]
  },
  {
   "cell_type": "code",
   "execution_count": 12,
   "metadata": {
    "scrolled": true
   },
   "outputs": [
    {
     "name": "stdout",
     "output_type": "stream",
     "text": [
      "Epoch 1/10\n",
      "60000/60000 [==============================] - 42s 702us/step - loss: 0.2935 - acc: 0.9101\n",
      "Epoch 2/10\n",
      "60000/60000 [==============================] - 30s 498us/step - loss: 0.1071 - acc: 0.9678\n",
      "Epoch 3/10\n",
      "60000/60000 [==============================] - 28s 466us/step - loss: 0.0831 - acc: 0.9752\n",
      "Epoch 4/10\n",
      "60000/60000 [==============================] - 26s 434us/step - loss: 0.0705 - acc: 0.9782\n",
      "Epoch 5/10\n",
      "60000/60000 [==============================] - 29s 483us/step - loss: 0.0625 - acc: 0.9806\n",
      "Epoch 6/10\n",
      "60000/60000 [==============================] - 27s 451us/step - loss: 0.0548 - acc: 0.9832\n",
      "Epoch 7/10\n",
      "60000/60000 [==============================] - 28s 461us/step - loss: 0.0488 - acc: 0.9852\n",
      "Epoch 8/10\n",
      "60000/60000 [==============================] - 30s 500us/step - loss: 0.0468 - acc: 0.9856\n",
      "Epoch 9/10\n",
      "60000/60000 [==============================] - 31s 509us/step - loss: 0.0425 - acc: 0.9869\n",
      "Epoch 10/10\n",
      "60000/60000 [==============================] - 28s 472us/step - loss: 0.0397 - acc: 0.9880\n"
     ]
    },
    {
     "data": {
      "text/plain": [
       "<keras.callbacks.History at 0x11042f8d0>"
      ]
     },
     "execution_count": 12,
     "metadata": {},
     "output_type": "execute_result"
    }
   ],
   "source": [
    "# 7. Fit model on the training data.\n",
    "\n",
    "model.fit(X_train,\n",
    "          Y_train,\n",
    "          batch_size = 32, \n",
    "          epochs = 10,\n",
    "          verbose = 1)"
   ]
  },
  {
   "cell_type": "code",
   "execution_count": 13,
   "metadata": {},
   "outputs": [
    {
     "name": "stdout",
     "output_type": "stream",
     "text": [
      "10000/10000 [==============================] - 3s 328us/step\n"
     ]
    }
   ],
   "source": [
    "# 8. Evaluate model on test data.\n",
    "\n",
    "score = model.evaluate(X_test, Y_test, verbose = 1)\n",
    "labels = model.metrics_names"
   ]
  },
  {
   "cell_type": "code",
   "execution_count": 14,
   "metadata": {},
   "outputs": [
    {
     "name": "stdout",
     "output_type": "stream",
     "text": [
      "loss: 0.03254934827641973\n",
      "acc: 0.9891\n"
     ]
    }
   ],
   "source": [
    "print(str(labels[0]) + \": \" + str(score[0]))\n",
    "print(str(labels[1]) + \": \" + str(score[1]))"
   ]
  },
  {
   "cell_type": "code",
   "execution_count": 15,
   "metadata": {},
   "outputs": [
    {
     "name": "stdout",
     "output_type": "stream",
     "text": [
      "_________________________________________________________________\n",
      "Layer (type)                 Output Shape              Param #   \n",
      "=================================================================\n",
      "conv2d_1 (Conv2D)            (None, 26, 26, 6)         60        \n",
      "_________________________________________________________________\n",
      "max_pooling2d_1 (MaxPooling2 (None, 13, 13, 6)         0         \n",
      "_________________________________________________________________\n",
      "conv2d_2 (Conv2D)            (None, 11, 11, 16)        880       \n",
      "_________________________________________________________________\n",
      "max_pooling2d_2 (MaxPooling2 (None, 5, 5, 16)          0         \n",
      "_________________________________________________________________\n",
      "flatten_1 (Flatten)          (None, 400)               0         \n",
      "_________________________________________________________________\n",
      "dense_1 (Dense)              (None, 128)               51328     \n",
      "_________________________________________________________________\n",
      "dropout_1 (Dropout)          (None, 128)               0         \n",
      "_________________________________________________________________\n",
      "dense_2 (Dense)              (None, 10)                1290      \n",
      "=================================================================\n",
      "Total params: 53,558\n",
      "Trainable params: 53,558\n",
      "Non-trainable params: 0\n",
      "_________________________________________________________________\n"
     ]
    }
   ],
   "source": [
    "model.summary()"
   ]
  },
  {
   "cell_type": "markdown",
   "metadata": {},
   "source": [
    "## Conclusion\n",
    "\n",
    "<details><summary>Why are neural networks better equipped to handle image data than non-neural networks?\n",
    "</summary>\n",
    "```\n",
    "Neural networks are naturally set up to consider interactions among features.\n",
    "```\n",
    "</details>\n",
    "\n",
    "<details><summary>Why are **convolutional neural networks** better equipped to handle image data than non-CNNs?\n",
    "</summary>\n",
    "```\n",
    "CNNs are naturally set up to consider interactions among \"close pixels\" only and drastically cuts down the number of parameters needed to learn through parameter sharing.\n",
    "```\n",
    "</details>\n",
    "\n"
   ]
  }
 ],
 "metadata": {
  "kernelspec": {
   "display_name": "Python 3",
   "language": "python",
   "name": "python3"
  },
  "language_info": {
   "codemirror_mode": {
    "name": "ipython",
    "version": 3
   },
   "file_extension": ".py",
   "mimetype": "text/x-python",
   "name": "python",
   "nbconvert_exporter": "python",
   "pygments_lexer": "ipython3",
   "version": "3.6.1"
  }
 },
 "nbformat": 4,
 "nbformat_minor": 2
}
